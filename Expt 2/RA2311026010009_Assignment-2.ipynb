{
 "cells": [
  {
   "cell_type": "code",
   "execution_count": null,
   "metadata": {
    "id": "kb2Q7PIY3p_K"
   },
   "outputs": [],
   "source": [
    "import numpy as np\n",
    "import pandas as pd"
   ]
  },
  {
   "cell_type": "code",
   "execution_count": null,
   "metadata": {
    "colab": {
     "base_uri": "https://localhost:8080/"
    },
    "id": "IZKFt25I47pk",
    "outputId": "df20f2e4-5ef2-4c68-b145-2a1c41a1297c"
   },
   "outputs": [
    {
     "name": "stdout",
     "output_type": "stream",
     "text": [
      "   icao24 callsign origin_country        time_position   longitude   latitude  \\\n",
      "0  s9t0u1   QTR321             UK  2025-07-30 10:00:00 -119.859959  71.429228   \n",
      "1  j0k1l2   AAL789         Canada  2025-07-30 10:00:10  177.419097 -80.521963   \n",
      "2  m3n4o5   DAL456            USA  2025-07-30 10:00:20   22.684660 -64.493309   \n",
      "3  s9t0u1   AFR987             UK  2025-07-30 10:00:30  -51.616152  17.684783   \n",
      "4  g7h8i9   UAL123             UK  2025-07-30 10:00:40  -76.247030  21.443679   \n",
      "\n",
      "   baro_altitude    velocity     heading  vertical_rate  on_ground  \\\n",
      "0   14958.846358  429.815012   79.315873     -31.816979      False   \n",
      "1   37446.471265  487.548982  291.652021     -33.884497      False   \n",
      "2   23222.374222  206.554212  299.188774     -11.563410      False   \n",
      "3   11546.412210  236.537147   19.585006     -13.821284       True   \n",
      "4   39277.957489  200.790543  256.299881      36.695787      False   \n",
      "\n",
      "  origin_airport destination_airport aircraft_type  position_source  \\\n",
      "0            CDG                 HND          B777            ADS-B   \n",
      "1            ORD                 LAX          B737            ADS-B   \n",
      "2           KSFO                 LHR    Gulfstream            ADS-B   \n",
      "3            IAH                 YYZ          B777            Radar   \n",
      "4            ORD                 YYZ          A350  Multilateration   \n",
      "\n",
      "   distance_to_nearest_aircraft airspace_class alert_level  \n",
      "0                      1.810134              A         NaN  \n",
      "1                      4.845806              G         NaN  \n",
      "2                     41.922594              C         NaN  \n",
      "3                     24.685921              A         NaN  \n",
      "4                     46.968817              C         NaN  \n"
     ]
    }
   ],
   "source": [
    "dataset = pd.read_csv('path_prediction.csv')\n",
    "print(dataset.head())"
   ]
  },
  {
   "cell_type": "code",
   "execution_count": null,
   "metadata": {
    "colab": {
     "background_save": true
    },
    "id": "O2s3Fwa35Qnv"
   },
   "outputs": [],
   "source": [
    "from pandas import read_csv\n",
    "from pandas.plotting import scatter_matrix\n",
    "from matplotlib import pyplot"
   ]
  },
  {
   "cell_type": "code",
   "execution_count": null,
   "metadata": {
    "colab": {
     "base_uri": "https://localhost:8080/"
    },
    "id": "nHAZTuHj6vwK",
    "outputId": "80d7a474-31a1-49e3-ad9e-c64203e02ef8"
   },
   "outputs": [
    {
     "name": "stdout",
     "output_type": "stream",
     "text": [
      "(5000, 18)\n"
     ]
    }
   ],
   "source": [
    "print(dataset.shape)"
   ]
  },
  {
   "cell_type": "code",
   "execution_count": null,
   "metadata": {
    "id": "6Utoc0uB60Mh"
   },
   "outputs": [
    {
     "name": "stdout",
     "output_type": "stream",
     "text": [
      "      icao24 callsign origin_country        time_position   longitude  \\\n",
      "4990  s9t0u1   DAL456        Germany  2025-07-30 23:51:40   58.219442   \n",
      "4991  a1b2c3   AAL789          India  2025-07-30 23:51:50  139.184154   \n",
      "4992  g7h8i9   SWA321        Germany  2025-07-30 23:52:00   78.224645   \n",
      "4993  j0k1l2   AAL789         Canada  2025-07-30 23:52:10 -132.736726   \n",
      "4994  j0k1l2   BAW654          India  2025-07-30 23:52:20  158.609353   \n",
      "4995  m3n4o5   AAL789          India  2025-07-30 23:52:30  143.961499   \n",
      "4996  p6q7r8   BAW654         France  2025-07-30 23:52:40  -54.692612   \n",
      "4997  g7h8i9   DAL456            UAE  2025-07-30 23:52:50 -139.847997   \n",
      "4998  g7h8i9   AAL789            USA  2025-07-30 23:53:00   73.495710   \n",
      "4999  a1b2c3   DAL456          India  2025-07-30 23:53:10   82.210069   \n",
      "\n",
      "       latitude  baro_altitude    velocity     heading  vertical_rate  \\\n",
      "4990  37.322093   16262.946166  309.346000  190.034888     -44.050451   \n",
      "4991 -41.060836   25031.645421  145.961269   95.573457      -5.706466   \n",
      "4992  78.914330   18957.490000  418.517062  253.930665      15.495153   \n",
      "4993  29.825559   28005.000070  278.472409   49.170386     -23.082494   \n",
      "4994 -81.514925    8263.351648  126.160739  183.982156      21.777940   \n",
      "4995 -65.567244   16965.204167  573.990790   70.298917      -2.173605   \n",
      "4996 -55.659317    3642.082997  385.598479  181.713350      35.810729   \n",
      "4997 -45.907674   24883.866821  338.860185  105.806669     -33.826253   \n",
      "4998  41.521927   39503.536113  529.568697   19.252681      25.707966   \n",
      "4999 -73.991656    2740.851258  568.370215  181.335245      43.255258   \n",
      "\n",
      "      on_ground origin_airport destination_airport aircraft_type  \\\n",
      "4990      False            DXB                 FRA          A350   \n",
      "4991      False            CDG                 BOM          B777   \n",
      "4992      False            ORD                 LAX          A350   \n",
      "4993      False            IAH                 DFW          A320   \n",
      "4994      False           EGLL                 ATL    Gulfstream   \n",
      "4995      False            ORD                 DFW          A320   \n",
      "4996      False            DXB                 BOM          A350   \n",
      "4997      False            CDG                 DFW          A320   \n",
      "4998      False            ORD                 ATL    Embraer190   \n",
      "4999      False            JFK                 BOM          A320   \n",
      "\n",
      "      position_source  distance_to_nearest_aircraft airspace_class alert_level  \n",
      "4990  Multilateration                     17.989041              C         NaN  \n",
      "4991            Radar                     46.365823              E         NaN  \n",
      "4992            Radar                     34.214750              B    Advisory  \n",
      "4993  Multilateration                     44.335735              A         NaN  \n",
      "4994  Multilateration                      4.537336              G         NaN  \n",
      "4995            ADS-B                      2.073952              A         NaN  \n",
      "4996  Multilateration                     21.539355              A         NaN  \n",
      "4997            Radar                     41.417954              E         NaN  \n",
      "4998  Multilateration                     20.485783              D         NaN  \n",
      "4999            Radar                     44.243892              D         NaN  \n"
     ]
    }
   ],
   "source": [
    "print(dataset.tail(10))"
   ]
  },
  {
   "cell_type": "code",
   "execution_count": null,
   "metadata": {
    "id": "XN91FCRo7AYY"
   },
   "outputs": [
    {
     "name": "stdout",
     "output_type": "stream",
     "text": [
      "         longitude     latitude  baro_altitude     velocity      heading  \\\n",
      "count  5000.000000  5000.000000    5000.000000  5000.000000  5000.000000   \n",
      "mean      0.001271    -0.705672   20964.254120   353.481387   179.613239   \n",
      "std     103.157972    51.706724   11600.506224   144.663826   103.541962   \n",
      "min    -179.957288   -89.968407     900.372769   100.010259     0.036854   \n",
      "25%     -87.551104   -45.683925   10928.442561   229.424292    91.783268   \n",
      "50%       0.670579    -1.088322   20809.690399   355.932718   180.625010   \n",
      "75%      87.635421    42.921533   31094.924612   478.484393   268.614279   \n",
      "max     179.881072    89.980680   40980.677070   599.945531   359.990592   \n",
      "\n",
      "       vertical_rate  distance_to_nearest_aircraft  \n",
      "count    5000.000000                   5000.000000  \n",
      "mean       -0.528388                     25.240586  \n",
      "std        28.728559                     14.399390  \n",
      "min       -49.960914                      0.100421  \n",
      "25%       -25.301361                     13.015533  \n",
      "50%        -0.676234                     25.301927  \n",
      "75%        24.302984                     37.782243  \n",
      "max        49.989968                     49.996991  \n"
     ]
    }
   ],
   "source": [
    "print(dataset.describe())"
   ]
  },
  {
   "cell_type": "code",
   "execution_count": null,
   "metadata": {},
   "outputs": [],
   "source": [
    "dataset.columns = (\n",
    "    dataset.columns.str.strip()             \n",
    "              .str.lower()              \n",
    "              .str.replace(\" \", \"_\")    \n",
    ")\n"
   ]
  },
  {
   "cell_type": "code",
   "execution_count": null,
   "metadata": {},
   "outputs": [],
   "source": [
    "dataset.replace(\"None\", np.nan, inplace=True)"
   ]
  },
  {
   "cell_type": "code",
   "execution_count": null,
   "metadata": {},
   "outputs": [
    {
     "name": "stdout",
     "output_type": "stream",
     "text": [
      "\n",
      "Missing values per column:\n",
      "icao24                             0\n",
      "callsign                           0\n",
      "origin_country                     0\n",
      "time_position                      0\n",
      "longitude                          0\n",
      "latitude                           0\n",
      "baro_altitude                      0\n",
      "velocity                           0\n",
      "heading                            0\n",
      "vertical_rate                      0\n",
      "on_ground                          0\n",
      "origin_airport                     0\n",
      "destination_airport                0\n",
      "aircraft_type                      0\n",
      "position_source                    0\n",
      "distance_to_nearest_aircraft       0\n",
      "airspace_class                     0\n",
      "alert_level                     4300\n",
      "dtype: int64\n"
     ]
    }
   ],
   "source": [
    "print(\"\\nMissing values per column:\")\n",
    "print(dataset.isna().sum())"
   ]
  },
  {
   "cell_type": "code",
   "execution_count": null,
   "metadata": {},
   "outputs": [
    {
     "name": "stdout",
     "output_type": "stream",
     "text": [
      "[nan 'Advisory' 'Warning' 'Critical']\n",
      "alert_level\n",
      "NaN         4300\n",
      "Advisory     486\n",
      "Warning      161\n",
      "Critical      53\n",
      "Name: count, dtype: int64\n"
     ]
    }
   ],
   "source": [
    "print(dataset[\"alert_level\"].unique())\n",
    "print(dataset[\"alert_level\"].value_counts(dropna=False))\n"
   ]
  },
  {
   "cell_type": "code",
   "execution_count": null,
   "metadata": {},
   "outputs": [],
   "source": [
    "dataset[\"alert_level\"] = dataset[\"alert_level\"].fillna(\"No Alert\")\n",
    "\n",
    "dataset[\"alert_level\"] = dataset[\"alert_level\"].astype(\"category\")"
   ]
  },
  {
   "cell_type": "code",
   "execution_count": null,
   "metadata": {},
   "outputs": [
    {
     "name": "stdout",
     "output_type": "stream",
     "text": [
      "\n",
      "Missing values per column:\n",
      "icao24                          0\n",
      "callsign                        0\n",
      "origin_country                  0\n",
      "time_position                   0\n",
      "longitude                       0\n",
      "latitude                        0\n",
      "baro_altitude                   0\n",
      "velocity                        0\n",
      "heading                         0\n",
      "vertical_rate                   0\n",
      "on_ground                       0\n",
      "origin_airport                  0\n",
      "destination_airport             0\n",
      "aircraft_type                   0\n",
      "position_source                 0\n",
      "distance_to_nearest_aircraft    0\n",
      "airspace_class                  0\n",
      "alert_level                     0\n",
      "dtype: int64\n"
     ]
    }
   ],
   "source": [
    "print(\"\\nMissing values per column:\")\n",
    "print(dataset.isna().sum())"
   ]
  },
  {
   "cell_type": "code",
   "execution_count": null,
   "metadata": {},
   "outputs": [
    {
     "name": "stdout",
     "output_type": "stream",
     "text": [
      "Invalid Latitude Rows: 0\n",
      "Invalid Longitude Rows: 0\n",
      "Invalid Heading Rows: 0\n",
      "Invalid Velocity Rows: 2462\n",
      "Invalid Altitude Rows: 0\n",
      "baro_altitude: 0 outliers detected\n",
      "velocity: 0 outliers detected\n",
      "heading: 0 outliers detected\n",
      "vertical_rate: 0 outliers detected\n",
      "distance_to_nearest_aircraft: 0 outliers detected\n",
      "Invalid ICAO24 Rows: 0\n",
      "Invalid Airspace Class Rows: 0\n"
     ]
    }
   ],
   "source": [
    "import numpy as np\n",
    "\n",
    "invalid_lat = dataset[~dataset[\"latitude\"].between(-90, 90)]\n",
    "invalid_lon = dataset[~dataset[\"longitude\"].between(-180, 180)]\n",
    "invalid_heading = dataset[~dataset[\"heading\"].between(0, 360)]\n",
    "invalid_velocity = dataset[dataset[\"velocity\"] > 360]\n",
    "invalid_altitude = dataset[(dataset[\"baro_altitude\"] < 0) & (dataset[\"on_ground\"] == False)]\n",
    "\n",
    "print(\"Invalid Latitude Rows:\", len(invalid_lat))\n",
    "print(\"Invalid Longitude Rows:\", len(invalid_lon))\n",
    "print(\"Invalid Heading Rows:\", len(invalid_heading))\n",
    "print(\"Invalid Velocity Rows:\", len(invalid_velocity))\n",
    "print(\"Invalid Altitude Rows:\", len(invalid_altitude))\n",
    "\n",
    "numeric_cols = [\"baro_altitude\", \"velocity\", \"heading\", \"vertical_rate\", \"distance_to_nearest_aircraft\"]\n",
    "\n",
    "for col in numeric_cols:\n",
    "    Q1 = dataset[col].quantile(0.25)\n",
    "    Q3 = dataset[col].quantile(0.75)\n",
    "    IQR = Q3 - Q1\n",
    "    lower = Q1 - 1.5 * IQR\n",
    "    upper = Q3 + 1.5 * IQR\n",
    "    outliers = dataset[(dataset[col] < lower) | (dataset[col] > upper)]\n",
    "    print(f\"{col}: {len(outliers)} outliers detected\")\n",
    "\n",
    "invalid_icao24 = dataset[~dataset[\"icao24\"].str.match(r\"^[a-zA-Z0-9]{6}$\")]\n",
    "print(\"Invalid ICAO24 Rows:\", len(invalid_icao24))\n",
    "\n",
    "valid_airspace = set(list(\"ABCDEFG\") + [\"Unknown\"])\n",
    "invalid_airspace = dataset[~dataset[\"airspace_class\"].isin(valid_airspace)]\n",
    "print(\"Invalid Airspace Class Rows:\", len(invalid_airspace))\n"
   ]
  },
  {
   "cell_type": "code",
   "execution_count": null,
   "metadata": {},
   "outputs": [
    {
     "name": "stdout",
     "output_type": "stream",
     "text": [
      "Original dataset size: (5000, 18)\n",
      "Cleaned dataset size: (5000, 18)\n"
     ]
    }
   ],
   "source": [
    "import numpy as np\n",
    "import pandas as pd\n",
    "\n",
    "numeric_cols = dataset.select_dtypes(include=[np.number]).columns\n",
    "\n",
    "Q1 = dataset[numeric_cols].quantile(0.25)\n",
    "Q3 = dataset[numeric_cols].quantile(0.75)\n",
    "IQR = Q3 - Q1\n",
    "\n",
    "non_outliers_mask = ~((dataset[numeric_cols] < (Q1 - 1.5 * IQR)) | (dataset[numeric_cols] > (Q3 + 1.5 * IQR))).any(axis=1)\n",
    "\n",
    "dataset_clean = dataset[non_outliers_mask]\n",
    "\n",
    "print(f\"Original dataset size: {dataset.shape}\")\n",
    "print(f\"Cleaned dataset size: {dataset_clean.shape}\")\n"
   ]
  },
  {
   "cell_type": "code",
   "execution_count": null,
   "metadata": {},
   "outputs": [],
   "source": [
    "import seaborn as sns\n",
    "import matplotlib.pyplot as plt"
   ]
  },
  {
   "cell_type": "code",
   "execution_count": null,
   "metadata": {},
   "outputs": [
    {
     "data": {
      "image/png": "[encoded data removed]",
      "text/plain": [
       "<Figure size 1000x500 with 1 Axes>"
      ]
     },
     "metadata": {},
     "output_type": "display_data"
    },
    {
     "data": {
      "image/png": "[encoded data removed]",
      "text/plain": [
       "<Figure size 1000x500 with 1 Axes>"
      ]
     },
     "metadata": {},
     "output_type": "display_data"
    }
   ],
   "source": [
    "plt.figure(figsize=(10,5))\n",
    "sns.boxplot(data=dataset)\n",
    "plt.title(\"Before Outlier Removal\")\n",
    "plt.show()\n",
    "\n",
    "plt.figure(figsize=(10,5))\n",
    "sns.boxplot(data=dataset_clean)\n",
    "plt.title(\"After Outlier Removal\")\n",
    "plt.show()"
   ]
  },
  {
   "cell_type": "code",
   "execution_count": null,
   "metadata": {},
   "outputs": [
    {
     "name": "stdout",
     "output_type": "stream",
     "text": [
      "\n",
      "Column: icao24\n",
      "Unique values count: 7\n",
      "Unique values: ['s9t0u1' 'j0k1l2' 'm3n4o5' 'g7h8i9' 'd4e5f6' 'p6q7r8' 'a1b2c3']\n",
      "\n",
      "Column: callsign\n",
      "Unique values count: 7\n",
      "Unique values: ['QTR321' 'AAL789' 'DAL456' 'AFR987' 'UAL123' 'BAW654' 'SWA321']\n",
      "\n",
      "Column: origin_country\n",
      "Unique values count: 7\n",
      "Unique values: ['UK' 'Canada' 'USA' 'France' 'Germany' 'India' 'UAE']\n",
      "\n",
      "Column: time_position\n",
      "Unique values count: 5000\n",
      "Unique values: ['2025-07-30 10:00:00' '2025-07-30 10:00:10' '2025-07-30 10:00:20' ...\n",
      " '2025-07-30 23:52:50' '2025-07-30 23:53:00' '2025-07-30 23:53:10']\n",
      "\n",
      "Column: on_ground\n",
      "Unique values count: 2\n",
      "Unique values: [False  True]\n",
      "\n",
      "Column: origin_airport\n",
      "Unique values count: 8\n",
      "Unique values: ['CDG' 'ORD' 'KSFO' 'IAH' 'DEL' 'EGLL' 'DXB' 'JFK']\n",
      "\n",
      "Column: destination_airport\n",
      "Unique values count: 8\n",
      "Unique values: ['HND' 'LAX' 'LHR' 'YYZ' 'BOM' 'ATL' 'FRA' 'DFW']\n",
      "\n",
      "Column: aircraft_type\n",
      "Unique values count: 7\n",
      "Unique values: ['B777' 'B737' 'Gulfstream' 'A350' 'Embraer190' 'Cessna172' 'A320']\n",
      "\n",
      "Column: position_source\n",
      "Unique values count: 3\n",
      "Unique values: ['ADS-B' 'Radar' 'Multilateration']\n",
      "\n",
      "Column: airspace_class\n",
      "Unique values count: 6\n",
      "Unique values: ['A' 'G' 'C' 'E' 'B' 'D']\n",
      "\n",
      "Column: alert_level\n",
      "Unique values count: 4\n",
      "Unique values: ['No Alert', 'Advisory', 'Warning', 'Critical']\n",
      "Categories (4, object): ['Advisory', 'Critical', 'No Alert', 'Warning']\n"
     ]
    }
   ],
   "source": [
    "non_numeric_cols = dataset.select_dtypes(exclude=[\"number\"]).columns\n",
    "\n",
    "for col in non_numeric_cols:\n",
    "    print(f\"\\nColumn: {col}\")\n",
    "    print(f\"Unique values count: {dataset[col].nunique()}\")\n",
    "    print(\"Unique values:\", dataset[col].unique())"
   ]
  },
  {
   "cell_type": "code",
   "execution_count": null,
   "metadata": {},
   "outputs": [
    {
     "name": "stdout",
     "output_type": "stream",
     "text": [
      "Boolean column 'on_ground' converted to integers: [0 1]\n",
      "Label encoding for 'icao24':\n",
      "  a1b2c3 -> 0\n",
      "  d4e5f6 -> 1\n",
      "  g7h8i9 -> 2\n",
      "  j0k1l2 -> 3\n",
      "  m3n4o5 -> 4\n",
      "  p6q7r8 -> 5\n",
      "  s9t0u1 -> 6\n",
      "Label encoding for 'callsign':\n",
      "  AAL789 -> 0\n",
      "  AFR987 -> 1\n",
      "  BAW654 -> 2\n",
      "  DAL456 -> 3\n",
      "  QTR321 -> 4\n",
      "  SWA321 -> 5\n",
      "  UAL123 -> 6\n",
      "Label encoding for 'origin_country':\n",
      "  Canada -> 0\n",
      "  France -> 1\n",
      "  Germany -> 2\n",
      "  India -> 3\n",
      "  UAE -> 4\n",
      "  UK -> 5\n",
      "  USA -> 6\n",
      "Label encoding for 'origin_airport':\n",
      "  CDG -> 0\n",
      "  DEL -> 1\n",
      "  DXB -> 2\n",
      "  EGLL -> 3\n",
      "  IAH -> 4\n",
      "  JFK -> 5\n",
      "  KSFO -> 6\n",
      "  ORD -> 7\n",
      "Label encoding for 'destination_airport':\n",
      "  ATL -> 0\n",
      "  BOM -> 1\n",
      "  DFW -> 2\n",
      "  FRA -> 3\n",
      "  HND -> 4\n",
      "  LAX -> 5\n",
      "  LHR -> 6\n",
      "  YYZ -> 7\n",
      "Label encoding for 'aircraft_type':\n",
      "  A320 -> 0\n",
      "  A350 -> 1\n",
      "  B737 -> 2\n",
      "  B777 -> 3\n",
      "  Cessna172 -> 4\n",
      "  Embraer190 -> 5\n",
      "  Gulfstream -> 6\n",
      "Label encoding for 'position_source':\n",
      "  ADS-B -> 0\n",
      "  Multilateration -> 1\n",
      "  Radar -> 2\n",
      "Label encoding for 'airspace_class':\n",
      "  A -> 0\n",
      "  B -> 1\n",
      "  C -> 2\n",
      "  D -> 3\n",
      "  E -> 4\n",
      "  G -> 5\n",
      "Label encoding for target 'alert_level':\n",
      "  Advisory -> 0\n",
      "  Critical -> 1\n",
      "  No Alert -> 2\n",
      "  Warning -> 3\n"
     ]
    }
   ],
   "source": [
    "from sklearn.preprocessing import LabelEncoder\n",
    "\n",
    "dataset = dataset.drop(columns=[\"time_position\"], errors=\"ignore\")\n",
    "\n",
    "X = dataset.drop(columns=[\"alert_level\"])\n",
    "y = dataset[\"alert_level\"]\n",
    "\n",
    "bool_cols = X.select_dtypes(include=[\"bool\"]).columns\n",
    "for col in bool_cols:\n",
    "    X[col] = X[col].astype(int)\n",
    "    print(f\"Boolean column '{col}' converted to integers: {X[col].unique()}\")\n",
    "\n",
    "categorical_cols = X.select_dtypes(include=[\"object\", \"category\"]).columns\n",
    "label_encoders = {}\n",
    "for col in categorical_cols:\n",
    "    le = LabelEncoder()\n",
    "    X[col] = le.fit_transform(X[col].astype(str))\n",
    "    label_encoders[col] = le\n",
    "    print(f\"Label encoding for '{col}':\")\n",
    "    for class_, val in zip(le.classes_, range(len(le.classes_))):\n",
    "        print(f\"  {class_} -> {val}\")\n",
    "\n",
    "target_le = LabelEncoder()\n",
    "y = target_le.fit_transform(y.astype(str))\n",
    "print(\"Label encoding for target 'alert_level':\")\n",
    "for class_, val in zip(target_le.classes_, range(len(target_le.classes_))):\n",
    "    print(f\"  {class_} -> {val}\")\n"
   ]
  },
  {
   "cell_type": "code",
   "execution_count": null,
   "metadata": {},
   "outputs": [
    {
     "name": "stdout",
     "output_type": "stream",
     "text": [
      "   icao24  callsign  origin_country   longitude   latitude  baro_altitude  \\\n",
      "0       6         4               5 -119.859959  71.429228   14958.846358   \n",
      "1       3         0               0  177.419097 -80.521963   37446.471265   \n",
      "2       4         3               6   22.684660 -64.493309   23222.374222   \n",
      "3       6         1               5  -51.616152  17.684783   11546.412210   \n",
      "4       2         6               5  -76.247030  21.443679   39277.957489   \n",
      "\n",
      "     velocity     heading  vertical_rate  on_ground  origin_airport  \\\n",
      "0  429.815012   79.315873     -31.816979          0               0   \n",
      "1  487.548982  291.652021     -33.884497          0               7   \n",
      "2  206.554212  299.188774     -11.563410          0               6   \n",
      "3  236.537147   19.585006     -13.821284          1               4   \n",
      "4  200.790543  256.299881      36.695787          0               7   \n",
      "\n",
      "   destination_airport  aircraft_type  position_source  \\\n",
      "0                    4              3                0   \n",
      "1                    5              2                0   \n",
      "2                    6              6                0   \n",
      "3                    7              3                2   \n",
      "4                    7              1                1   \n",
      "\n",
      "   distance_to_nearest_aircraft  airspace_class  alert_level  \n",
      "0                      1.810134               0            2  \n",
      "1                      4.845806               5            2  \n",
      "2                     41.922594               2            2  \n",
      "3                     24.685921               0            2  \n",
      "4                     46.968817               2            2  \n"
     ]
    }
   ],
   "source": [
    "encoded_dataset = X.copy()\n",
    "encoded_dataset[\"alert_level\"] = y\n",
    "\n",
    "print(encoded_dataset.head())"
   ]
  },
  {
   "cell_type": "code",
   "execution_count": null,
   "metadata": {},
   "outputs": [
    {
     "name": "stdout",
     "output_type": "stream",
     "text": [
      "Accuracy: 0.8730\n",
      "Classification report:\n",
      "              precision    recall  f1-score   support\n",
      "\n",
      "           0       0.00      0.00      0.00        90\n",
      "           1       0.00      0.00      0.00        14\n",
      "           2       0.87      1.00      0.93       873\n",
      "           3       0.00      0.00      0.00        23\n",
      "\n",
      "    accuracy                           0.87      1000\n",
      "   macro avg       0.22      0.25      0.23      1000\n",
      "weighted avg       0.76      0.87      0.81      1000\n",
      "\n"
     ]
    },
    {
     "name": "stderr",
     "output_type": "stream",
     "text": [
      "/Library/Frameworks/Python.framework/Versions/3.10/lib/python3.10/site-packages/sklearn/linear_model/_logistic.py:469: ConvergenceWarning: lbfgs failed to converge (status=1):\n",
      "STOP: TOTAL NO. of ITERATIONS REACHED LIMIT.\n",
      "\n",
      "Increase the number of iterations (max_iter) or scale the data as shown in:\n",
      "    https://scikit-learn.org/stable/modules/preprocessing.html\n",
      "Please also refer to the documentation for alternative solver options:\n",
      "    https://scikit-learn.org/stable/modules/linear_model.html#logistic-regression\n",
      "  n_iter_i = _check_optimize_result(\n",
      "/Library/Frameworks/Python.framework/Versions/3.10/lib/python3.10/site-packages/sklearn/metrics/_classification.py:1509: UndefinedMetricWarning: Precision is ill-defined and being set to 0.0 in labels with no predicted samples. Use `zero_division` parameter to control this behavior.\n",
      "  _warn_prf(average, modifier, f\"{metric.capitalize()} is\", len(result))\n",
      "/Library/Frameworks/Python.framework/Versions/3.10/lib/python3.10/site-packages/sklearn/metrics/_classification.py:1509: UndefinedMetricWarning: Precision is ill-defined and being set to 0.0 in labels with no predicted samples. Use `zero_division` parameter to control this behavior.\n",
      "  _warn_prf(average, modifier, f\"{metric.capitalize()} is\", len(result))\n",
      "/Library/Frameworks/Python.framework/Versions/3.10/lib/python3.10/site-packages/sklearn/metrics/_classification.py:1509: UndefinedMetricWarning: Precision is ill-defined and being set to 0.0 in labels with no predicted samples. Use `zero_division` parameter to control this behavior.\n",
      "  _warn_prf(average, modifier, f\"{metric.capitalize()} is\", len(result))\n"
     ]
    }
   ],
   "source": [
    "from sklearn.linear_model import LogisticRegression\n",
    "from sklearn.metrics import accuracy_score, classification_report\n",
    "from sklearn.model_selection import train_test_split\n",
    "\n",
    "X_train, X_test, y_train, y_test = train_test_split(X, y, test_size=0.2, random_state=42)\n",
    "\n",
    "clf = LogisticRegression(max_iter=1000)\n",
    "clf.fit(X_train, y_train)\n",
    "\n",
    "y_pred = clf.predict(X_test)\n",
    "\n",
    "accuracy = accuracy_score(y_test, y_pred)\n",
    "print(f\"Accuracy: {accuracy:.4f}\")\n",
    "print(\"Classification report:\")\n",
    "print(classification_report(y_test, y_pred))\n"
   ]
  }
 ],
 "metadata": {
  "colab": {
   "provenance": []
  },
  "kernelspec": {
   "display_name": "Python 3",
   "language": "python",
   "name": "python3"
  },
  "language_info": {
   "codemirror_mode": {
    "name": "ipython",
    "version": 3
   },
   "file_extension": ".py",
   "mimetype": "text/x-python",
   "name": "python",
   "nbconvert_exporter": "python",
   "pygments_lexer": "ipython3",
   "version": "3.10.6"
  }
 },
 "nbformat": 4,
 "nbformat_minor": 4
}
